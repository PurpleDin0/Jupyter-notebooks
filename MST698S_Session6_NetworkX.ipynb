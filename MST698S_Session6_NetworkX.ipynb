{
  "nbformat": 4,
  "nbformat_minor": 0,
  "metadata": {
    "kernelspec": {
      "name": "python3",
      "display_name": "Python 3"
    },
    "colab": {
      "name": "MST698S_Session6_NetworkX.ipynb",
      "provenance": [],
      "include_colab_link": true
    }
  },
  "cells": [
    {
      "cell_type": "markdown",
      "metadata": {
        "id": "view-in-github",
        "colab_type": "text"
      },
      "source": [
        "<a href=\"https://colab.research.google.com/github/PurpleDin0/Jupyter-notebooks/blob/master/MST698S_Session6_NetworkX.ipynb\" target=\"_parent\"><img src=\"https://colab.research.google.com/assets/colab-badge.svg\" alt=\"Open In Colab\"/></a>"
      ]
    },
    {
      "cell_type": "markdown",
      "metadata": {
        "id": "Ro7YWqt7Cv1i",
        "colab_type": "text"
      },
      "source": [
        "## Data Science Tools and Techniques\n",
        "\n",
        "## NetworkX Example"
      ]
    },
    {
      "cell_type": "code",
      "metadata": {
        "id": "7oKs_Ia4Cv1k",
        "colab_type": "code",
        "colab": {}
      },
      "source": [
        "import networkx as nx"
      ],
      "execution_count": 0,
      "outputs": []
    },
    {
      "cell_type": "code",
      "metadata": {
        "id": "4S1qI2i6Cv1q",
        "colab_type": "code",
        "colab": {}
      },
      "source": [
        "#instantiate graph\n",
        "\n",
        "G=nx.Graph()"
      ],
      "execution_count": 0,
      "outputs": []
    },
    {
      "cell_type": "code",
      "metadata": {
        "id": "eyRGOU5DCv1x",
        "colab_type": "code",
        "colab": {}
      },
      "source": [
        "#add node 1 (note: node names can be integers, floats, or strings).\n",
        "\n",
        "G.add_node(1)"
      ],
      "execution_count": 0,
      "outputs": []
    },
    {
      "cell_type": "code",
      "metadata": {
        "id": "C09b-kSBCv11",
        "colab_type": "code",
        "colab": {}
      },
      "source": [
        "#this will add node 'spam.'\n",
        "\n",
        "G.add_node('spam')"
      ],
      "execution_count": 0,
      "outputs": []
    },
    {
      "cell_type": "code",
      "metadata": {
        "id": "1TyG7accCv15",
        "colab_type": "code",
        "colab": {}
      },
      "source": [
        "#add nodes 2 and 3 (note: This method passes a list)\n",
        "\n",
        "G.add_nodes_from([2,3])"
      ],
      "execution_count": 0,
      "outputs": []
    },
    {
      "cell_type": "code",
      "metadata": {
        "id": "SSIH6v1fCv1_",
        "colab_type": "code",
        "colab": {}
      },
      "source": [
        "#add edges to the graph.  Edges are represented as tuples, indicating the nodes they connect.  In this case, node 1 is connected to nodes 2 and 3.\n",
        "\n",
        "G.add_edges_from([(1,2),(1,3)])"
      ],
      "execution_count": 0,
      "outputs": []
    },
    {
      "cell_type": "code",
      "metadata": {
        "id": "vOHsak6GCv2F",
        "colab_type": "code",
        "colab": {
          "base_uri": "https://localhost:8080/",
          "height": 33
        },
        "outputId": "59b36f63-3636-4ed6-eda8-f6f725c6678e"
      },
      "source": [
        "#to view a list of all nodes or all edges:\n",
        "\n",
        "G.nodes()\n",
        "G.edges()"
      ],
      "execution_count": 6,
      "outputs": [
        {
          "output_type": "execute_result",
          "data": {
            "text/plain": [
              "EdgeView([(1, 2), (1, 3)])"
            ]
          },
          "metadata": {
            "tags": []
          },
          "execution_count": 6
        }
      ]
    },
    {
      "cell_type": "code",
      "metadata": {
        "id": "ZQZsN7K9Cv2L",
        "colab_type": "code",
        "colab": {
          "base_uri": "https://localhost:8080/",
          "height": 33
        },
        "outputId": "b50e6bcd-2601-4a48-bd4e-17b1d4270c09"
      },
      "source": [
        "#to see which nodes are connected to node 1:\n",
        "\n",
        "G.neighbors(1)"
      ],
      "execution_count": 7,
      "outputs": [
        {
          "output_type": "execute_result",
          "data": {
            "text/plain": [
              "<dict_keyiterator at 0x7f6711938cc8>"
            ]
          },
          "metadata": {
            "tags": []
          },
          "execution_count": 7
        }
      ]
    },
    {
      "cell_type": "code",
      "metadata": {
        "id": "oLUP3kMCCv2S",
        "colab_type": "code",
        "colab": {}
      },
      "source": [
        "#you can also add other attributes to edges.  To add the attribute 'color' = 'blue' to edge (1,3):\n",
        "\n",
        "G[1][3]['color']='blue'"
      ],
      "execution_count": 0,
      "outputs": []
    },
    {
      "cell_type": "code",
      "metadata": {
        "id": "jLrGo9jyCv2Z",
        "colab_type": "code",
        "colab": {}
      },
      "source": [
        "#node attributes can be set similarly.  To set the attribute 'room' = 714 in node 1:\n",
        "\n",
        "G.nodes[1]['room'] = 714 #Changed node to nodes for compatability with Python 3\n",
        "\n"
      ],
      "execution_count": 0,
      "outputs": []
    },
    {
      "cell_type": "code",
      "metadata": {
        "id": "BYYW7SymCv2d",
        "colab_type": "code",
        "colab": {}
      },
      "source": [
        "#computing centralities\n",
        "\n",
        "#degree centrality\n",
        "c = nx.degree_centrality(G)\n",
        "\n",
        "#eigenvector centrality\n",
        "d = nx.eigenvector_centrality(G)\n",
        "\n",
        "#betweenness centrality\n",
        "e = nx.betweenness_centrality(G)"
      ],
      "execution_count": 0,
      "outputs": []
    },
    {
      "cell_type": "code",
      "metadata": {
        "id": "XQgPQXpTD4uo",
        "colab_type": "code",
        "colab": {
          "base_uri": "https://localhost:8080/",
          "height": 82
        },
        "outputId": "bb538fea-3990-4a69-b539-f2e7fe29a92f"
      },
      "source": [
        "c"
      ],
      "execution_count": 13,
      "outputs": [
        {
          "output_type": "execute_result",
          "data": {
            "text/plain": [
              "{1: 0.6666666666666666,\n",
              " 2: 0.3333333333333333,\n",
              " 3: 0.3333333333333333,\n",
              " 'spam': 0.0}"
            ]
          },
          "metadata": {
            "tags": []
          },
          "execution_count": 13
        }
      ]
    },
    {
      "cell_type": "code",
      "metadata": {
        "id": "0zMxU1V0D5H7",
        "colab_type": "code",
        "colab": {
          "base_uri": "https://localhost:8080/",
          "height": 33
        },
        "outputId": "bb9c8567-5b4d-4bca-b3a6-aabbe43df9fd"
      },
      "source": [
        "d"
      ],
      "execution_count": 14,
      "outputs": [
        {
          "output_type": "execute_result",
          "data": {
            "text/plain": [
              "{1: 0.7071067811818997, 2: 0.5, 3: 0.5, 'spam': 2.5637738751442134e-06}"
            ]
          },
          "metadata": {
            "tags": []
          },
          "execution_count": 14
        }
      ]
    },
    {
      "cell_type": "code",
      "metadata": {
        "id": "-Xl52eNID55D",
        "colab_type": "code",
        "colab": {
          "base_uri": "https://localhost:8080/",
          "height": 33
        },
        "outputId": "4911d775-879d-44de-ed92-883d7d728bc2"
      },
      "source": [
        "e"
      ],
      "execution_count": 15,
      "outputs": [
        {
          "output_type": "execute_result",
          "data": {
            "text/plain": [
              "{1: 0.3333333333333333, 2: 0.0, 3: 0.0, 'spam': 0.0}"
            ]
          },
          "metadata": {
            "tags": []
          },
          "execution_count": 15
        }
      ]
    },
    {
      "cell_type": "code",
      "metadata": {
        "id": "YqOPQJBUD6NL",
        "colab_type": "code",
        "colab": {}
      },
      "source": [
        ""
      ],
      "execution_count": 0,
      "outputs": []
    }
  ]
}